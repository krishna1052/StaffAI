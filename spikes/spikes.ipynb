{
 "cells": [
  {
   "cell_type": "markdown",
   "id": "c8ef5a6b",
   "metadata": {},
   "source": [
    "# How input query should be injested to the db"
   ]
  },
  {
   "cell_type": "code",
   "execution_count": null,
   "id": "51605d64",
   "metadata": {
    "vscode": {
     "languageId": "plaintext"
    }
   },
   "outputs": [],
   "source": [
    "from src.setup_database import DatabaseSetup\n",
    "\n",
    "db = DatabaseSetup()\n",
    "\n",
    "sample_demand = {\n",
    "        'role': 'Data Engineer',\n",
    "        'grade': 'Consultant',\n",
    "        'start_date': '2025-05-01',\n",
    "        'end_date': '2025-09-30',\n",
    "        'office': 'New York',\n",
    "        'job_description': 'Looking for a data engineer with strong Python and machine learning skills.'\n",
    "    }\n",
    "\n",
    "db.create_demands_with_embeddings(sample_demand)"
   ]
  }
 ],
 "metadata": {
  "language_info": {
   "name": "python"
  }
 },
 "nbformat": 4,
 "nbformat_minor": 5
}
